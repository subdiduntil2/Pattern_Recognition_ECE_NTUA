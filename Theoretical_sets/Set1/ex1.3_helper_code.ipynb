{
 "cells": [
  {
   "cell_type": "code",
   "execution_count": 105,
   "metadata": {},
   "outputs": [
    {
     "name": "stdout",
     "output_type": "stream",
     "text": [
      "1.8299999999999996 2.03 0.21296 0.31296 0.33999999999999997 0.66\n"
     ]
    }
   ],
   "source": [
    "import numpy as np\n",
    "x=[1.51,1.44,2.23,1.4,1.64,2.58,1.52,1.6,2.57,1.49,1.32,2.62,1.63,1.61,2.29]\n",
    "m0=np.mean(x)\n",
    "m1=np.mean(x)+0.2\n",
    "var0=np.var(x)\n",
    "var1=np.var(x)+0.1\n",
    "p1=0.5+0.16\n",
    "p0=0.5-0.16\n",
    "print(m0,m1,var0,var1,p0,p1)\n",
    "def gaussian(x, mu, sig):\n",
    "    return 1./(np.sqrt(2.*np.pi)*sig)*np.exp(-np.power((x - mu)/sig, 2.)/2)\n",
    "def power(my_list):\n",
    "    return [ x**2 for x in my_list ]"
   ]
  },
  {
   "cell_type": "code",
   "execution_count": 106,
   "metadata": {},
   "outputs": [
    {
     "name": "stdout",
     "output_type": "stream",
     "text": [
      "0 1.8399999999999996 1.8199999999999996 0.22296000000000002 0.20296 0.49 0.51\n",
      "1 1.9237830187440754 1.7070373021047152 0.2568890768945389 0.1555939297733699 0.5673131621783362 0.43268683782166384\n",
      "2 2.0596668389209802 1.5260710045584132 0.367925831509142 0.04301498745004888 0.5695865219874889 0.43041347801251106\n",
      "3 2.0319058096614864 1.5302334215907782 0.507752972822748 0.004802639340269099 0.5975345375535623 0.40246546244643766\n",
      "4 1.8507611756488347 1.5198234381222768 0.3230814079785191 0.00011010220049509847 0.9372656143599565 0.06273438564004351\n",
      "5 1.8518871085399216 1.52 0.3309979695747913 3.11740966651392e-08 0.9340525498679044 0.06594745013209556\n",
      "6 1.8521428379992873 1.52 0.3311356952001926 0.0 0.9333333871274543 0.06666661287254573\n",
      "7 nan nan nan nan nan nan\n",
      "8 nan nan nan nan nan nan\n",
      "9 nan nan nan nan nan nan\n"
     ]
    },
    {
     "name": "stderr",
     "output_type": "stream",
     "text": [
      "C:\\Users\\manos\\AppData\\Local\\Temp\\ipykernel_22468\\847996752.py:11: RuntimeWarning: divide by zero encountered in double_scalars\n",
      "  return 1./(np.sqrt(2.*np.pi)*sig)*np.exp(-np.power((x - mu)/sig, 2.)/2)\n",
      "C:\\Users\\manos\\AppData\\Local\\Temp\\ipykernel_22468\\847996752.py:11: RuntimeWarning: invalid value encountered in double_scalars\n",
      "  return 1./(np.sqrt(2.*np.pi)*sig)*np.exp(-np.power((x - mu)/sig, 2.)/2)\n"
     ]
    }
   ],
   "source": [
    "m0=np.mean(x)+0.01\n",
    "m1=np.mean(x)-0.01\n",
    "var0=np.var(x)+0.01\n",
    "var1=np.var(x)-0.01\n",
    "p1=0.5+0.01\n",
    "p0=0.5-0.01\n",
    "\n",
    "for j in range(10):\n",
    "    print(j,m0,m1,var0,var1,p0,p1)\n",
    "    temp1=0\n",
    "    temp2=0\n",
    "    EZ=[]\n",
    "    for i in range(15):\n",
    "        temp1=gaussian(x[i],m1,var1)*p1\n",
    "        temp2=gaussian(x[i],m1,var1)*p1+gaussian(x[i],m0,var0)*(1-p1)\n",
    "        #print(j,temp1,temp2)\n",
    "        EZ.append(np.divide(temp1,temp2))\n",
    "    #compute m1\n",
    "    m1_new=sum(np.multiply(EZ,x))/sum(EZ)\n",
    "    temp_arr=[i-m1 for i in x]\n",
    "    var1_new=sum((np.multiply(EZ,power(temp_arr))))/sum(EZ)\n",
    "    p1_new=sum(EZ)/15\n",
    "    p0_new=1-p1_new\n",
    "    m0_new=sum((np.multiply(np.ones(15)-EZ,x)))/sum(np.ones(15)-EZ)\n",
    "    var0_new=sum((np.multiply(np.ones(15)-EZ,power(temp_arr))))/sum(np.ones(15)-EZ)\n",
    "    p0=p0_new\n",
    "    p1=p1_new\n",
    "    m1=m1_new\n",
    "    m0=m0_new\n",
    "    var0=var0_new\n",
    "    var1=var1_new"
   ]
  }
 ],
 "metadata": {
  "kernelspec": {
   "display_name": "Python 3.10.8 64-bit (microsoft store)",
   "language": "python",
   "name": "python3"
  },
  "language_info": {
   "codemirror_mode": {
    "name": "ipython",
    "version": 3
   },
   "file_extension": ".py",
   "mimetype": "text/x-python",
   "name": "python",
   "nbconvert_exporter": "python",
   "pygments_lexer": "ipython3",
   "version": "3.10.8"
  },
  "orig_nbformat": 4,
  "vscode": {
   "interpreter": {
    "hash": "2e30c8476bd84d5419f6081d39ecd77ef51ccbf8b386a9784f6d755a32adf0af"
   }
  }
 },
 "nbformat": 4,
 "nbformat_minor": 2
}
